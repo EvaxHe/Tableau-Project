{
 "cells": [
  {
   "cell_type": "code",
   "execution_count": 1,
   "id": "e5dac88e",
   "metadata": {},
   "outputs": [],
   "source": [
    "import pandas as pd\n",
    "import numpy as np\n",
    "from sklearn.model_selection import train_test_split\n",
    "from sklearn.ensemble import RandomForestClassifier \n",
    "from sklearn import preprocessing "
   ]
  },
  {
   "cell_type": "code",
   "execution_count": 23,
   "id": "1f27cba1",
   "metadata": {},
   "outputs": [],
   "source": [
    "from sklearn.preprocessing import LabelEncoder"
   ]
  },
  {
   "cell_type": "code",
   "execution_count": 2,
   "id": "00a4f118",
   "metadata": {},
   "outputs": [],
   "source": [
    "df = pd.read_csv('/Users/eva-he/Downloads/Tableau Project - Supply Chain data/DataCoSupplyChainDataset.csv')"
   ]
  },
  {
   "cell_type": "code",
   "execution_count": 3,
   "id": "448577ac",
   "metadata": {
    "scrolled": true
   },
   "outputs": [
    {
     "data": {
      "text/html": [
       "<div>\n",
       "<style scoped>\n",
       "    .dataframe tbody tr th:only-of-type {\n",
       "        vertical-align: middle;\n",
       "    }\n",
       "\n",
       "    .dataframe tbody tr th {\n",
       "        vertical-align: top;\n",
       "    }\n",
       "\n",
       "    .dataframe thead th {\n",
       "        text-align: right;\n",
       "    }\n",
       "</style>\n",
       "<table border=\"1\" class=\"dataframe\">\n",
       "  <thead>\n",
       "    <tr style=\"text-align: right;\">\n",
       "      <th></th>\n",
       "      <th>Type</th>\n",
       "      <th>Days for shipping (real)</th>\n",
       "      <th>Days for shipment (scheduled)</th>\n",
       "      <th>Benefit per order</th>\n",
       "      <th>Sales per customer</th>\n",
       "      <th>Delivery Status</th>\n",
       "      <th>Late_delivery_risk</th>\n",
       "      <th>Category Id</th>\n",
       "      <th>Category Name</th>\n",
       "      <th>Customer City</th>\n",
       "      <th>...</th>\n",
       "      <th>Order Zipcode</th>\n",
       "      <th>Product Card Id</th>\n",
       "      <th>Product Category Id</th>\n",
       "      <th>Product Description</th>\n",
       "      <th>Product Image</th>\n",
       "      <th>Product Name</th>\n",
       "      <th>Product Price</th>\n",
       "      <th>Product Status</th>\n",
       "      <th>shipping date (DateOrders)</th>\n",
       "      <th>Shipping Mode</th>\n",
       "    </tr>\n",
       "  </thead>\n",
       "  <tbody>\n",
       "    <tr>\n",
       "      <th>0</th>\n",
       "      <td>DEBIT</td>\n",
       "      <td>3</td>\n",
       "      <td>4</td>\n",
       "      <td>91.250000</td>\n",
       "      <td>314.640015</td>\n",
       "      <td>Advance shipping</td>\n",
       "      <td>0</td>\n",
       "      <td>73</td>\n",
       "      <td>Sporting Goods</td>\n",
       "      <td>Caguas</td>\n",
       "      <td>...</td>\n",
       "      <td>NaN</td>\n",
       "      <td>1360</td>\n",
       "      <td>73</td>\n",
       "      <td>NaN</td>\n",
       "      <td>http://images.acmesports.sports/Smart+watch</td>\n",
       "      <td>Smart watch</td>\n",
       "      <td>327.75</td>\n",
       "      <td>0</td>\n",
       "      <td>2/3/2018 22:56</td>\n",
       "      <td>Standard Class</td>\n",
       "    </tr>\n",
       "    <tr>\n",
       "      <th>1</th>\n",
       "      <td>TRANSFER</td>\n",
       "      <td>5</td>\n",
       "      <td>4</td>\n",
       "      <td>-249.089996</td>\n",
       "      <td>311.359985</td>\n",
       "      <td>Late delivery</td>\n",
       "      <td>1</td>\n",
       "      <td>73</td>\n",
       "      <td>Sporting Goods</td>\n",
       "      <td>Caguas</td>\n",
       "      <td>...</td>\n",
       "      <td>NaN</td>\n",
       "      <td>1360</td>\n",
       "      <td>73</td>\n",
       "      <td>NaN</td>\n",
       "      <td>http://images.acmesports.sports/Smart+watch</td>\n",
       "      <td>Smart watch</td>\n",
       "      <td>327.75</td>\n",
       "      <td>0</td>\n",
       "      <td>1/18/2018 12:27</td>\n",
       "      <td>Standard Class</td>\n",
       "    </tr>\n",
       "    <tr>\n",
       "      <th>2</th>\n",
       "      <td>CASH</td>\n",
       "      <td>4</td>\n",
       "      <td>4</td>\n",
       "      <td>-247.779999</td>\n",
       "      <td>309.720001</td>\n",
       "      <td>Shipping on time</td>\n",
       "      <td>0</td>\n",
       "      <td>73</td>\n",
       "      <td>Sporting Goods</td>\n",
       "      <td>San Jose</td>\n",
       "      <td>...</td>\n",
       "      <td>NaN</td>\n",
       "      <td>1360</td>\n",
       "      <td>73</td>\n",
       "      <td>NaN</td>\n",
       "      <td>http://images.acmesports.sports/Smart+watch</td>\n",
       "      <td>Smart watch</td>\n",
       "      <td>327.75</td>\n",
       "      <td>0</td>\n",
       "      <td>1/17/2018 12:06</td>\n",
       "      <td>Standard Class</td>\n",
       "    </tr>\n",
       "    <tr>\n",
       "      <th>3</th>\n",
       "      <td>DEBIT</td>\n",
       "      <td>3</td>\n",
       "      <td>4</td>\n",
       "      <td>22.860001</td>\n",
       "      <td>304.809998</td>\n",
       "      <td>Advance shipping</td>\n",
       "      <td>0</td>\n",
       "      <td>73</td>\n",
       "      <td>Sporting Goods</td>\n",
       "      <td>Los Angeles</td>\n",
       "      <td>...</td>\n",
       "      <td>NaN</td>\n",
       "      <td>1360</td>\n",
       "      <td>73</td>\n",
       "      <td>NaN</td>\n",
       "      <td>http://images.acmesports.sports/Smart+watch</td>\n",
       "      <td>Smart watch</td>\n",
       "      <td>327.75</td>\n",
       "      <td>0</td>\n",
       "      <td>1/16/2018 11:45</td>\n",
       "      <td>Standard Class</td>\n",
       "    </tr>\n",
       "    <tr>\n",
       "      <th>4</th>\n",
       "      <td>PAYMENT</td>\n",
       "      <td>2</td>\n",
       "      <td>4</td>\n",
       "      <td>134.210007</td>\n",
       "      <td>298.250000</td>\n",
       "      <td>Advance shipping</td>\n",
       "      <td>0</td>\n",
       "      <td>73</td>\n",
       "      <td>Sporting Goods</td>\n",
       "      <td>Caguas</td>\n",
       "      <td>...</td>\n",
       "      <td>NaN</td>\n",
       "      <td>1360</td>\n",
       "      <td>73</td>\n",
       "      <td>NaN</td>\n",
       "      <td>http://images.acmesports.sports/Smart+watch</td>\n",
       "      <td>Smart watch</td>\n",
       "      <td>327.75</td>\n",
       "      <td>0</td>\n",
       "      <td>1/15/2018 11:24</td>\n",
       "      <td>Standard Class</td>\n",
       "    </tr>\n",
       "  </tbody>\n",
       "</table>\n",
       "<p>5 rows × 53 columns</p>\n",
       "</div>"
      ],
      "text/plain": [
       "       Type  Days for shipping (real)  Days for shipment (scheduled)  \\\n",
       "0     DEBIT                         3                              4   \n",
       "1  TRANSFER                         5                              4   \n",
       "2      CASH                         4                              4   \n",
       "3     DEBIT                         3                              4   \n",
       "4   PAYMENT                         2                              4   \n",
       "\n",
       "   Benefit per order  Sales per customer   Delivery Status  \\\n",
       "0          91.250000          314.640015  Advance shipping   \n",
       "1        -249.089996          311.359985     Late delivery   \n",
       "2        -247.779999          309.720001  Shipping on time   \n",
       "3          22.860001          304.809998  Advance shipping   \n",
       "4         134.210007          298.250000  Advance shipping   \n",
       "\n",
       "   Late_delivery_risk  Category Id   Category Name Customer City  ...  \\\n",
       "0                   0           73  Sporting Goods        Caguas  ...   \n",
       "1                   1           73  Sporting Goods        Caguas  ...   \n",
       "2                   0           73  Sporting Goods      San Jose  ...   \n",
       "3                   0           73  Sporting Goods   Los Angeles  ...   \n",
       "4                   0           73  Sporting Goods        Caguas  ...   \n",
       "\n",
       "  Order Zipcode Product Card Id Product Category Id  Product Description  \\\n",
       "0           NaN            1360                  73                  NaN   \n",
       "1           NaN            1360                  73                  NaN   \n",
       "2           NaN            1360                  73                  NaN   \n",
       "3           NaN            1360                  73                  NaN   \n",
       "4           NaN            1360                  73                  NaN   \n",
       "\n",
       "                                  Product Image  Product Name Product Price  \\\n",
       "0  http://images.acmesports.sports/Smart+watch   Smart watch         327.75   \n",
       "1  http://images.acmesports.sports/Smart+watch   Smart watch         327.75   \n",
       "2  http://images.acmesports.sports/Smart+watch   Smart watch         327.75   \n",
       "3  http://images.acmesports.sports/Smart+watch   Smart watch         327.75   \n",
       "4  http://images.acmesports.sports/Smart+watch   Smart watch         327.75   \n",
       "\n",
       "  Product Status shipping date (DateOrders)   Shipping Mode  \n",
       "0              0             2/3/2018 22:56  Standard Class  \n",
       "1              0            1/18/2018 12:27  Standard Class  \n",
       "2              0            1/17/2018 12:06  Standard Class  \n",
       "3              0            1/16/2018 11:45  Standard Class  \n",
       "4              0            1/15/2018 11:24  Standard Class  \n",
       "\n",
       "[5 rows x 53 columns]"
      ]
     },
     "execution_count": 3,
     "metadata": {},
     "output_type": "execute_result"
    }
   ],
   "source": [
    "df.head()"
   ]
  },
  {
   "cell_type": "code",
   "execution_count": null,
   "id": "63bf3f85",
   "metadata": {},
   "outputs": [],
   "source": [
    "## Data Preprocessing "
   ]
  },
  {
   "cell_type": "code",
   "execution_count": 4,
   "id": "56a1970e",
   "metadata": {},
   "outputs": [],
   "source": [
    "# combine first and last name\n",
    "df['Customer Full Name'] = df['Customer Fname'].astype(str) + df['Customer Lname'].astype(str)\n",
    "df= df.drop(['Customer Email','Product Status','Customer Password','Customer Street','Customer Fname','Customer Lname',\n",
    "           'Latitude','Longitude','Product Description','Product Image','Order Zipcode','shipping date (DateOrders)'],axis=1)\n",
    "df['Customer Zipcode'] = df['Customer Zipcode'].fillna(0)"
   ]
  },
  {
   "cell_type": "code",
   "execution_count": 8,
   "id": "038de21b",
   "metadata": {},
   "outputs": [],
   "source": [
    "# Outliers\n",
    "def outlier_treatment(col):\n",
    "    sorted(col)\n",
    "    Q1,Q3 = np.percentile(col,[25,75])\n",
    "    IQR = Q3 - Q1\n",
    "    lower_range = Q1 - (1.5*IQR)\n",
    "    upper_range = Q3 + (1.5*IQR)\n",
    "    return lower_range, upper_range\n",
    "lower_range, upper_range = outlier_treatment(df['Product Price'])\n",
    "df.drop(df[ (df['Product Price'] < lower_range) | (df['Product Price'] > upper_range)].index, inplace = True)\n",
    "\n",
    "## .index to deal with dropping specific row "
   ]
  },
  {
   "cell_type": "code",
   "execution_count": 10,
   "id": "cd9ae656",
   "metadata": {},
   "outputs": [],
   "source": [
    "train_data = df.copy()\n",
    "train_data['fraud'] = np.where(train_data['Order Status'] == 'SUSPECTED_FRAUD',1, 0)\n",
    "train_data['late_delivery'] = np.where(train_data['Delivery Status'] == 'Late delivery', 1, 0)\n",
    "train_data.drop(['Delivery Status','Late_delivery_risk','Order Status', 'order date (DateOrders)'], axis = 1, inplace = True)"
   ]
  },
  {
   "cell_type": "code",
   "execution_count": 11,
   "id": "82f8055a",
   "metadata": {},
   "outputs": [],
   "source": [
    "le = preprocessing.LabelEncoder()\n",
    "train_data['Order Country'] = le.fit_transform(train_data['Order Country'])\n",
    "train_data['Order State']    = le.fit_transform(train_data['Order State'])"
   ]
  },
  {
   "cell_type": "code",
   "execution_count": 18,
   "id": "95cc37f2",
   "metadata": {},
   "outputs": [],
   "source": [
    "c_col = train_data.dtypes[(df.dtypes == 'object') | (train_data.dtypes == 'category')].index.tolist()"
   ]
  },
  {
   "cell_type": "code",
   "execution_count": 19,
   "id": "d850f61d",
   "metadata": {},
   "outputs": [
    {
     "data": {
      "text/plain": [
       "['Type',\n",
       " 'Category Name',\n",
       " 'Customer City',\n",
       " 'Customer Country',\n",
       " 'Customer Segment',\n",
       " 'Customer State',\n",
       " 'Department Name',\n",
       " 'Market',\n",
       " 'Order City',\n",
       " 'Order Country',\n",
       " 'Order Region',\n",
       " 'Order State',\n",
       " 'Product Name',\n",
       " 'Shipping Mode',\n",
       " 'Customer Full Name']"
      ]
     },
     "execution_count": 19,
     "metadata": {},
     "output_type": "execute_result"
    }
   ],
   "source": [
    "c_col"
   ]
  },
  {
   "cell_type": "code",
   "execution_count": 25,
   "id": "6f0d0b9f",
   "metadata": {},
   "outputs": [],
   "source": [
    "train_data[c_col] =  train_data[c_col].apply(LabelEncoder().fit_transform)"
   ]
  },
  {
   "cell_type": "code",
   "execution_count": null,
   "id": "010b4fbb",
   "metadata": {},
   "outputs": [],
   "source": [
    "## Prediction Modeling "
   ]
  },
  {
   "cell_type": "code",
   "execution_count": 30,
   "id": "b8828f77",
   "metadata": {},
   "outputs": [
    {
     "data": {
      "text/plain": [
       "0.9805499523729478"
      ]
     },
     "execution_count": 30,
     "metadata": {},
     "output_type": "execute_result"
    }
   ],
   "source": [
    "# Fraud Prediction\n",
    "#Xf = train_data.loc[:, ~train_data.columns.isin(['fraud'])]\n",
    "# Xf = train_data[['Days for shipping (real)','Days for shipment (scheduled)','Order Country','Category Name', 'Customer Segment']]\n",
    "# yf = train_data['fraud']\n",
    "# train_x, test_x, train_y, test_y = train_test_split(Xf,yf,test_size = 0.2, random_state = 42)\n",
    "# random_forest = RandomForestClassifier(n_estimators = 100)\n",
    "# random_forest.fit(train_x, train_y.values.ravel())\n",
    "# random_forest.score(train_x, train_y)"
   ]
  },
  {
   "cell_type": "code",
   "execution_count": 38,
   "id": "71b76982",
   "metadata": {},
   "outputs": [
    {
     "data": {
      "text/plain": [
       "0.9781405838516277"
      ]
     },
     "execution_count": 38,
     "metadata": {},
     "output_type": "execute_result"
    }
   ],
   "source": [
    "# Fraud Prediction\n",
    "#Xf = train_data.loc[:, ~train_data.columns.isin(['fraud'])]\n",
    "Xf=train_data[['Days for shipping (real)','Days for shipment (scheduled)','Order Country']]\n",
    "yf = train_data['fraud']\n",
    "train_x, test_x, train_y, test_y = train_test_split(Xf,yf,test_size = 0.2, random_state = 42)\n",
    "random_forest = RandomForestClassifier(n_estimators = 100)\n",
    "random_forest.fit(train_x, train_y.values.ravel())\n",
    "random_forest.score(train_x, train_y)"
   ]
  },
  {
   "cell_type": "code",
   "execution_count": 34,
   "id": "fd6fa6b4",
   "metadata": {},
   "outputs": [
    {
     "data": {
      "text/plain": [
       "0.708018154311649"
      ]
     },
     "execution_count": 34,
     "metadata": {},
     "output_type": "execute_result"
    }
   ],
   "source": [
    "# Late Delivery Prediction\n",
    "#Xl = train_data.loc[:, ~train_data.columns.isin(['fraud'])]\n",
    "# Xl = train_data[['Days for shipment (scheduled)','Order Country','Category Name']]\n",
    "# yl = train_data['late_delivery']\n",
    "# train_xl, test_xl, train_yl, test_yl = train_test_split(Xl,yl,test_size = 0.2, random_state = 42)\n",
    "# random_forest_1 = RandomForestClassifier(n_estimators = 100)\n",
    "# random_forest_1.fit(train_xl, train_yl.values.ravel())\n",
    "# random_forest_1.score(train_xl, train_yl)"
   ]
  },
  {
   "cell_type": "code",
   "execution_count": 40,
   "id": "b98d7253",
   "metadata": {},
   "outputs": [
    {
     "data": {
      "text/plain": [
       "0.6971759959657086"
      ]
     },
     "execution_count": 40,
     "metadata": {},
     "output_type": "execute_result"
    }
   ],
   "source": [
    "Xl=train_data[['Days for shipment (scheduled)','Order Country']]\n",
    "yl=train_data['late_delivery']\n",
    "train_xl,test_xl,train_yl,test_yl = train_test_split(Xl,yl,test_size = 0.2, random_state = 42)\n",
    "random_forest_l = RandomForestClassifier(n_estimators=100)\n",
    "random_forest_l.fit(train_xl, train_yl.values.ravel())\n",
    "random_forest_l.score(train_xl, train_yl)"
   ]
  },
  {
   "cell_type": "code",
   "execution_count": 32,
   "id": "2634423b",
   "metadata": {},
   "outputs": [],
   "source": [
    "import tabpy_client\n",
    "from tabpy.tabpy_tools.client import Client\n",
    "client = tabpy_client.Client('http://localhost:9004/')"
   ]
  },
  {
   "cell_type": "code",
   "execution_count": 33,
   "id": "699adce6",
   "metadata": {},
   "outputs": [],
   "source": [
    "# def fraud_predictor5(_arg1,_arg2,_arg3,_arg4,_arg5):\n",
    "#     import pandas as pd \n",
    "#     row = {'shipping': _arg1,\n",
    "#           'shipping scheduled': _arg2,\n",
    "#           'country': _arg3,\n",
    "#           'Category': _arg4,\n",
    "#           'Customer Segment': _arg5}\n",
    "#     test_data = pd.DataFrame(data = row, index = [0])\n",
    "#     from sklearn import preprocessing \n",
    "#     le = preprocessing.LabelEncoder()\n",
    "#     c_cols = ['country','Category','Customer Segment']\n",
    "#     test_data[['country','Category','Customer Segment']] =  test_data[c_cols].apply(le.fit_transform)\n",
    "#     # Predict the fraud \n",
    "#     predprob = random_forest.predict_proba(test_data)\n",
    "#     # Return only the probability \n",
    "#     return[probability[1] for probability in predprob]"
   ]
  },
  {
   "cell_type": "code",
   "execution_count": 35,
   "id": "2c56ce70",
   "metadata": {},
   "outputs": [],
   "source": [
    "# def late_delivery(_arg1, _arg2, _arg3):\n",
    "#     import pandas as pd\n",
    "#     row = {'shipping scheduled': _arg1,\n",
    "#           'country': _arg2,\n",
    "#           'Category Name': _arg3}\n",
    "#     test_data = pd.DataFrame(data = row, index = [0])\n",
    "#     from sklearn import preprocessing\n",
    "#     le = preprocessing.LabelEncoder()\n",
    "#     test_data[['country','Category Name']] = test_data[['country','Category Name']].apply(le.fit_transform)\n",
    "#     predprob = random_forest_1.predict_proba(test_data)\n",
    "#     return[probability[1] for probability in predprob]"
   ]
  },
  {
   "cell_type": "code",
   "execution_count": 41,
   "id": "e387a40c",
   "metadata": {},
   "outputs": [],
   "source": [
    "def fraud_predictor5( _arg1, _arg2,_arg3):\n",
    "    import pandas as pd\n",
    "    row = {'shipping': _arg1,\n",
    "           'shipping scheduled': _arg2,\n",
    "          'country_str':_arg3}\n",
    "    #Convert it into a dataframe\n",
    "    test_data = pd.DataFrame(data = row,index=[0])\n",
    "    from sklearn import preprocessing\n",
    "    le = preprocessing.LabelEncoder()\n",
    "    test_data['country_str']  = le.fit_transform(test_data['country_str'])\n",
    "    #Predict the Fraud\n",
    "    predprob_survival = random_forest.predict_proba(test_data)\n",
    "    #Return only the probability\n",
    "    return [probability[1] for probability in predprob_survival]"
   ]
  },
  {
   "cell_type": "code",
   "execution_count": 42,
   "id": "58d2cbee",
   "metadata": {},
   "outputs": [],
   "source": [
    "def late_delivery( _arg1, _arg2):\n",
    "    import pandas as pd\n",
    "    row = {'shipping scheduled': _arg1,\n",
    "          'country_str':_arg2}\n",
    "    #Convert it into a dataframe\n",
    "    test_data = pd.DataFrame(data = row,index=[0])\n",
    "    from sklearn import preprocessing\n",
    "    le = preprocessing.LabelEncoder()\n",
    "    test_data['country_str']  = le.fit_transform(test_data['country_str'])\n",
    "    #Predict the late delivery probabilites\n",
    "    predprob_late = random_forest_l.predict_proba(test_data)\n",
    "    #Return only the probability\n",
    "    return [probability[1] for probability in predprob_late]"
   ]
  },
  {
   "cell_type": "code",
   "execution_count": 43,
   "id": "7ae17dc9",
   "metadata": {},
   "outputs": [],
   "source": [
    "# Deploying\n",
    "client.deploy('fraud_predictor5', fraud_predictor5,'fraud_predictor probability', override = True)"
   ]
  },
  {
   "cell_type": "code",
   "execution_count": 44,
   "id": "e46ec239",
   "metadata": {},
   "outputs": [],
   "source": [
    "client.deploy('late_delivery', late_delivery,'late_delivery_probability',override = True)"
   ]
  },
  {
   "cell_type": "code",
   "execution_count": null,
   "id": "bbf758d7",
   "metadata": {},
   "outputs": [],
   "source": []
  }
 ],
 "metadata": {
  "kernelspec": {
   "display_name": "Python 3",
   "language": "python",
   "name": "python3"
  },
  "language_info": {
   "codemirror_mode": {
    "name": "ipython",
    "version": 3
   },
   "file_extension": ".py",
   "mimetype": "text/x-python",
   "name": "python",
   "nbconvert_exporter": "python",
   "pygments_lexer": "ipython3",
   "version": "3.8.8"
  }
 },
 "nbformat": 4,
 "nbformat_minor": 5
}
